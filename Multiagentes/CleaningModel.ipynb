{
 "cells": [
  {
   "cell_type": "markdown",
   "metadata": {},
   "source": [
    "# Estudio de las estadísticas de un robot de limpieza reactivo\n",
    "\n",
    "## Arturo Cristián Díaz López - A01709522\n",
    "\n",
    "Dado:\n",
    "\n",
    "Habitación de MxN espacios.\n",
    "Número de agentes.\n",
    "Porcentaje de celdas inicialmente sucias.\n",
    "Tiempo máximo de ejecución.\n",
    "Realiza la siguiente simulación:\n",
    "\n",
    "Inicializa las celdas sucias (ubicaciones aleatorias).\n",
    "Todos los agentes empiezan en la celda [1,1].\n",
    "En cada paso de tiempo:\n",
    "Si la celda está sucia, entonces aspira.\n",
    "Si la celda está limpia, el agente elije una dirección aleatoria para moverse (unas de las 8 celdas vecinas) y elije la acción de movimiento (si no puede moverse allí, permanecerá en la misma celda).\n",
    "Se ejecuta el tiempo máximo establecido.\n",
    "Para un espacio de 100x100, considera los siguientes escenarios:\n",
    "\n",
    "Escenario 1: 1 agente, 90% de celdas sucias.\n",
    "Escenario 2. 2 agentes, 90% de celdas sucias.\n",
    "Deberás resolver las siguientes preguntas:\n",
    "\n",
    "¿Cuántos pasos de simulación toma limpiar todo el espacio?\n",
    "¿Qué porcentaje de celdas sucias queda con los siguientes pasos de simulación: 100, 1000, 10000?\n",
    "A continuación, determina cuál es la cantidad óptima de aspiradoras que debe de tener para realizar la limpieza en el menor tiempo posible. Considera que tenemos un máximo de 10 aspiradoras disponibles.\n",
    "\n",
    "Desarrollar un informe con lo observado."
   ]
  },
  {
   "cell_type": "code",
   "execution_count": 73,
   "metadata": {},
   "outputs": [],
   "source": [
    "from mesa import Agent, Model\n",
    "from mesa.space import MultiGrid\n",
    "from mesa.time import RandomActivation\n",
    "\n",
    "import numpy as np\n",
    "import pandas as pd\n",
    "\n",
    "import time\n",
    "import random"
   ]
  },
  {
   "cell_type": "code",
   "execution_count": 74,
   "metadata": {},
   "outputs": [],
   "source": [
    "class CleaningAgent(Agent):\n",
    "    def move(self):\n",
    "        empty_cell = self.model.grid.get_neighborhood(self.pos, moore=True, include_center=False)\n",
    "        empty_cell = [i for i in empty_cell if self.model.grid.is_cell_empty(i)]\n",
    "\n",
    "        if empty_cell:\n",
    "            new_position = random.choice(empty_cell)\n",
    "            self.model.grid.move_agent(self, new_position)\n",
    "\n",
    "    def step(self):\n",
    "        x, y = self.pos\n",
    "\n",
    "        if self.model.is_clean(x, y):\n",
    "            self.move()\n",
    "\n",
    "        else:\n",
    "            self.model.clean(x, y)\n",
    "            self.move()"
   ]
  },
  {
   "cell_type": "code",
   "execution_count": 75,
   "metadata": {},
   "outputs": [],
   "source": [
    "class CleaningModel(Model):\n",
    "    def __init__(self, width, height, num_agents, dirty_cells):\n",
    "        self.grid = MultiGrid(width, height, torus=False)\n",
    "        self.schedule = RandomActivation(self)\n",
    "\n",
    "        self.dirty = np.zeros((width, height))\n",
    "        self.dirty_cells = int(width * height * dirty_cells)\n",
    "        self.clean_cells = 0\n",
    "\n",
    "        self.current_id = 0\n",
    "        self.steps = 0\n",
    "\n",
    "        for _ in range(num_agents):\n",
    "            agent = CleaningAgent(self.next_id(), self)\n",
    "            self.schedule.add(agent)\n",
    "            x, y = self.random_empty_cell()\n",
    "            self.grid.place_agent(agent, (x, y))\n",
    "\n",
    "        for _ in range(self.dirty_cells):\n",
    "            x, y = self.random_empty_cell()\n",
    "            self.dirty[x][y] = 1\n",
    "\n",
    "    def step(self):\n",
    "        self.schedule.step()\n",
    "        self.steps += 1\n",
    "\n",
    "    def clean(self, x, y):\n",
    "        self.dirty[x][y] = 0\n",
    "        self.clean_cells += 1\n",
    "\n",
    "    def is_clean(self, x, y):\n",
    "        return self.dirty[x][y] == 0\n",
    "\n",
    "    def random_empty_cell(self):\n",
    "        x, y = self.random_pos()\n",
    "        while not self.grid.is_cell_empty((x, y)) or self.dirty[x][y] == 1:\n",
    "            x, y = self.random_pos()\n",
    "        return x, y\n",
    "\n",
    "    def random_pos(self):\n",
    "        return random.randrange(self.grid.width), random.randrange(self.grid.height)\n",
    "\n",
    "    def get_dirty_percentage(self):\n",
    "        return (self.dirty_cells - self.clean_cells) / self.dirty_cells * 100\n",
    "\n",
    "    def next_id(self):\n",
    "        self.current_id += 1\n",
    "        return self.current_id"
   ]
  },
  {
   "cell_type": "code",
   "execution_count": 76,
   "metadata": {},
   "outputs": [],
   "source": [
    "WIDTH = 100\n",
    "HEIGHT = 100\n",
    "DIRT_PERCENTAGE_1 = 0.9\n",
    "MAX_STEPS = 10000"
   ]
  },
  {
   "cell_type": "code",
   "execution_count": 77,
   "metadata": {},
   "outputs": [
    {
     "name": "stdout",
     "output_type": "stream",
     "text": [
      "E S C E N A R I O  1 \n",
      "\n",
      "Initial dirty percentage:  100.0\n",
      "Final dirty percentage:  67.58888888888889\n",
      "Time taken:  0.10799837112426758\n",
      "Steps taken:  10000\n"
     ]
    }
   ],
   "source": [
    "NUM_AGENTS_1 = 1\n",
    "\n",
    "start_time_1 = time.time()\n",
    "model_1 = CleaningModel(WIDTH, HEIGHT, NUM_AGENTS_1, DIRT_PERCENTAGE_1)\n",
    "\n",
    "initial_dirty_percentage_1 = model_1.get_dirty_percentage()\n",
    "\n",
    "for i in range(MAX_STEPS):\n",
    "    if model_1.get_dirty_percentage() == 0:\n",
    "        break\n",
    "    model_1.step()\n",
    "\n",
    "final_dirty_percentage_1 = model_1.get_dirty_percentage()\n",
    "end_time_1 = time.time() - start_time_1\n",
    "\n",
    "print(\"E S C E N A R I O  1 \")\n",
    "print(\"\\nInitial dirty percentage: \", initial_dirty_percentage_1)\n",
    "print(\"Final dirty percentage: \", final_dirty_percentage_1)\n",
    "print(\"Time taken: \", end_time_1)\n",
    "print(\"Steps taken: \", model_1.steps)"
   ]
  },
  {
   "cell_type": "code",
   "execution_count": 78,
   "metadata": {},
   "outputs": [
    {
     "name": "stdout",
     "output_type": "stream",
     "text": [
      "E S C E N A R I O  2 \n",
      "\n",
      "Initial dirty percentage:  100.0\n",
      "Final dirty percentage:  56.97777777777778\n",
      "Time taken:  0.17123818397521973\n",
      "Steps taken:  10000\n"
     ]
    }
   ],
   "source": [
    "NUM_AGENTS_2 = 2\n",
    "\n",
    "start_time_2 = time.time()\n",
    "model_2 = CleaningModel(WIDTH, HEIGHT, NUM_AGENTS_2, DIRT_PERCENTAGE_1)\n",
    "\n",
    "initial_dirty_percentage_2 = model_2.get_dirty_percentage()\n",
    "\n",
    "for i in range(MAX_STEPS):\n",
    "    if model_2.get_dirty_percentage() == 0:\n",
    "        break\n",
    "    model_2.step()\n",
    "\n",
    "final_dirty_percentage_2 = model_2.get_dirty_percentage()\n",
    "end_time_2 = time.time() - start_time_2\n",
    "\n",
    "print(\"E S C E N A R I O  2 \")\n",
    "print(\"\\nInitial dirty percentage: \", initial_dirty_percentage_2)\n",
    "print(\"Final dirty percentage: \", final_dirty_percentage_2)\n",
    "print(\"Time taken: \", end_time_2)\n",
    "print(\"Steps taken: \", model_2.steps)"
   ]
  }
 ],
 "metadata": {
  "kernelspec": {
   "display_name": "Python 3",
   "language": "python",
   "name": "python3"
  },
  "language_info": {
   "codemirror_mode": {
    "name": "ipython",
    "version": 3
   },
   "file_extension": ".py",
   "mimetype": "text/x-python",
   "name": "python",
   "nbconvert_exporter": "python",
   "pygments_lexer": "ipython3",
   "version": "3.11.0"
  }
 },
 "nbformat": 4,
 "nbformat_minor": 2
}
